{
 "cells": [
  {
   "cell_type": "code",
   "execution_count": 1,
   "metadata": {},
   "outputs": [
    {
     "name": "stdout",
     "output_type": "stream",
     "text": [
      "Epoch 0, Loss: 4.2430\n",
      "Epoch 10, Loss: 0.0282\n",
      "Epoch 20, Loss: 0.0131\n",
      "Epoch 30, Loss: 0.0123\n",
      "Epoch 40, Loss: 0.0118\n",
      "Epoch 50, Loss: 0.0113\n",
      "Epoch 60, Loss: 0.0110\n",
      "Epoch 70, Loss: 0.0107\n",
      "Epoch 80, Loss: 0.0106\n",
      "Epoch 90, Loss: 0.0104\n"
     ]
    }
   ],
   "source": [
    "import numpy as np\n",
    "import torch\n",
    "import torch.nn as nn\n",
    "\n",
    "# Generate synthetic data: y = 2x + 1 + noise\n",
    "np.random.seed(0)\n",
    "X = np.random.rand(100, 1)  # 100 random input points\n",
    "Y = 2*X + 1 + 0.1*np.random.randn(100, 1)  # Linear relationship with noise\n",
    "\n",
    "# Convert NumPy arrays to PyTorch tensors\n",
    "X = torch.tensor(X, dtype=torch.float32)\n",
    "Y = torch.tensor(Y, dtype=torch.float32)\n",
    "\n",
    "class SimpleLinearModel(nn.Module):\n",
    "    \"\"\"Linear regression model: y = wx + b\"\"\"\n",
    "    def __init__(self):\n",
    "        super().__init__()\n",
    "        self.linear = nn.Linear(in_features=1, out_features=1)\n",
    "    \n",
    "    def forward(self, x):\n",
    "        return self.linear(x)\n",
    "\n",
    "# Initialize model and training parameters\n",
    "model = SimpleLinearModel()\n",
    "loss_fn = nn.MSELoss()  # Mean Squared Error loss\n",
    "optimizer = torch.optim.SGD(model.parameters(), lr=0.1)  # Stochastic Gradient Descent\n",
    "\n",
    "# Training loop\n",
    "epochs = 100\n",
    "for epoch in range(epochs):\n",
    "    # Forward pass\n",
    "    predictions = model(X)\n",
    "    loss = loss_fn(predictions, Y)\n",
    "    \n",
    "    # Backward pass\n",
    "    optimizer.zero_grad()  # Clear previous gradients\n",
    "    loss.backward()       # Compute gradients\n",
    "    optimizer.step()      # Update weights\n",
    "    \n",
    "    if epoch % 10 == 0:\n",
    "        print(f'Epoch {epoch}, Loss: {loss.item():.4f}')\n",
    "\n",
    "# Save model\n",
    "torch.save(model.state_dict(), 'linear_model.pth')"
   ]
  }
 ],
 "metadata": {
  "kernelspec": {
   "display_name": "dev-ml",
   "language": "python",
   "name": "python3"
  },
  "language_info": {
   "codemirror_mode": {
    "name": "ipython",
    "version": 3
   },
   "file_extension": ".py",
   "mimetype": "text/x-python",
   "name": "python",
   "nbconvert_exporter": "python",
   "pygments_lexer": "ipython3",
   "version": "3.12.4"
  }
 },
 "nbformat": 4,
 "nbformat_minor": 2
}
